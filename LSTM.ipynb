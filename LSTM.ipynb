{
  "nbformat": 4,
  "nbformat_minor": 0,
  "metadata": {
    "colab": {
      "name": "LSTM.ipynb",
      "provenance": [],
      "collapsed_sections": []
    },
    "kernelspec": {
      "name": "python3",
      "display_name": "Python 3"
    }
  },
  "cells": [
    {
      "cell_type": "markdown",
      "metadata": {
        "id": "2ZaP3Q0pPPik"
      },
      "source": [
        "LSTM for simple sequence classification in IMDB Dataset"
      ]
    },
    {
      "cell_type": "code",
      "metadata": {
        "id": "UGpbWUZTPVof"
      },
      "source": [
        "import numpy\r\n",
        "from keras.datasets import imdb\r\n",
        "from keras.models import Sequential\r\n",
        "from keras.layers import Dense\r\n",
        "from keras.layers import LSTM\r\n",
        "from keras.layers.embeddings import Embedding\r\n",
        "from keras.preprocessing import sequence\r\n",
        "numpy.random.seed(7)"
      ],
      "execution_count": 3,
      "outputs": []
    },
    {
      "cell_type": "code",
      "metadata": {
        "colab": {
          "base_uri": "https://localhost:8080/"
        },
        "id": "TEkglf4PRZP6",
        "outputId": "19b3ee48-7d16-4537-c45d-cecc0e88ea8d"
      },
      "source": [
        "# load the dataset but only keep the top n words, zero the rest\r\n",
        "top_words = 5000\r\n",
        "(X_train, y_train), (X_test, y_test) = imdb.load_data(num_words=top_words)"
      ],
      "execution_count": 4,
      "outputs": [
        {
          "output_type": "stream",
          "text": [
            "Downloading data from https://storage.googleapis.com/tensorflow/tf-keras-datasets/imdb.npz\n",
            "17465344/17464789 [==============================] - 0s 0us/step\n"
          ],
          "name": "stdout"
        }
      ]
    },
    {
      "cell_type": "code",
      "metadata": {
        "colab": {
          "base_uri": "https://localhost:8080/"
        },
        "id": "URoYq4N5R17-",
        "outputId": "f9514075-5882-4820-84e9-ddf6782b2fed"
      },
      "source": [
        "X_train.shape"
      ],
      "execution_count": 6,
      "outputs": [
        {
          "output_type": "execute_result",
          "data": {
            "text/plain": [
              "(25000,)"
            ]
          },
          "metadata": {
            "tags": []
          },
          "execution_count": 6
        }
      ]
    },
    {
      "cell_type": "code",
      "metadata": {
        "id": "OsjbbhJMR4Qz"
      },
      "source": [
        "# truncate and pad input sequences\r\n",
        "max_review_length = 500\r\n",
        "X_train = sequence.pad_sequences(X_train, maxlen=max_review_length)\r\n",
        "X_test = sequence.pad_sequences(X_test, maxlen=max_review_length)"
      ],
      "execution_count": 7,
      "outputs": []
    },
    {
      "cell_type": "code",
      "metadata": {
        "colab": {
          "base_uri": "https://localhost:8080/"
        },
        "id": "Qg4kXYg2STpV",
        "outputId": "4513c939-740a-46e2-99bd-997ee137b412"
      },
      "source": [
        "# create a model\r\n",
        "embedding_vector_length = 32\r\n",
        "model = Sequential()\r\n",
        "model.add(Embedding(top_words, embedding_vector_length, input_length=max_review_length))\r\n",
        "model.add(LSTM(100))\r\n",
        "model.add(Dense(1,activation='sigmoid'))\r\n",
        "model.compile(loss='binary_crossentropy',optimizer='adam',metrics=['accuracy'])\r\n",
        "print(model.summary())\r\n",
        "model.fit(X_train, y_train, epochs=3, batch_size=64)\r\n",
        "# Final evaluation of the model\r\n",
        "scores = model.evaluate(X_test, y_test, verbose=0)\r\n",
        "print(\"Accuracy: %.2f%%\" % (scores[1]*100))"
      ],
      "execution_count": 8,
      "outputs": [
        {
          "output_type": "stream",
          "text": [
            "Model: \"sequential\"\n",
            "_________________________________________________________________\n",
            "Layer (type)                 Output Shape              Param #   \n",
            "=================================================================\n",
            "embedding (Embedding)        (None, 500, 32)           160000    \n",
            "_________________________________________________________________\n",
            "lstm (LSTM)                  (None, 100)               53200     \n",
            "_________________________________________________________________\n",
            "dense (Dense)                (None, 1)                 101       \n",
            "=================================================================\n",
            "Total params: 213,301\n",
            "Trainable params: 213,301\n",
            "Non-trainable params: 0\n",
            "_________________________________________________________________\n",
            "None\n",
            "Epoch 1/3\n",
            "391/391 [==============================] - 188s 481ms/step - loss: 0.4667 - accuracy: 0.7629\n",
            "Epoch 2/3\n",
            "391/391 [==============================] - 189s 483ms/step - loss: 0.2803 - accuracy: 0.8882\n",
            "Epoch 3/3\n",
            "391/391 [==============================] - 188s 482ms/step - loss: 0.2433 - accuracy: 0.9036\n",
            "Accuracy: 87.54%\n"
          ],
          "name": "stdout"
        }
      ]
    },
    {
      "cell_type": "markdown",
      "metadata": {
        "id": "2d3Vjz8UUKPg"
      },
      "source": [
        "LSTM for Sequence Classification with Dropout"
      ]
    },
    {
      "cell_type": "code",
      "metadata": {
        "id": "8Qnd5W-UWozW"
      },
      "source": [
        "from keras.layers import Dropout"
      ],
      "execution_count": 12,
      "outputs": []
    },
    {
      "cell_type": "code",
      "metadata": {
        "colab": {
          "base_uri": "https://localhost:8080/"
        },
        "id": "Nevs00aeTv6K",
        "outputId": "fba34a74-4ecd-4378-ed70-7e735757d428"
      },
      "source": [
        "# create a model\r\n",
        "model_drpout = Sequential()\r\n",
        "model_drpout.add(Embedding(top_words, embedding_vector_length, input_length=max_review_length))\r\n",
        "model_drpout.add(Dropout(0.2))\r\n",
        "model_drpout.add(LSTM(100))\r\n",
        "model_drpout.add(Dropout(0.2))\r\n",
        "model_drpout.add(Dense(1, activation='sigmoid'))\r\n",
        "model_drpout.compile(loss='binary_crossentropy', optimizer='adam', metrics=['accuracy'])\r\n",
        "print(model_drpout.summary())\r\n",
        "model_drpout.fit(X_train, y_train, epochs=3, batch_size=64)\r\n",
        "# Final evaluation of the model\r\n",
        "scores = model_drpout.evaluate(X_test, y_test, verbose=0)\r\n",
        "print(\"Accuracy: %.2f%%\" % (scores[1]*100))"
      ],
      "execution_count": 14,
      "outputs": [
        {
          "output_type": "stream",
          "text": [
            "Model: \"sequential_4\"\n",
            "_________________________________________________________________\n",
            "Layer (type)                 Output Shape              Param #   \n",
            "=================================================================\n",
            "embedding_3 (Embedding)      (None, 500, 32)           160000    \n",
            "_________________________________________________________________\n",
            "dropout_2 (Dropout)          (None, 500, 32)           0         \n",
            "_________________________________________________________________\n",
            "lstm_2 (LSTM)                (None, 100)               53200     \n",
            "_________________________________________________________________\n",
            "dropout_3 (Dropout)          (None, 100)               0         \n",
            "_________________________________________________________________\n",
            "dense_2 (Dense)              (None, 1)                 101       \n",
            "=================================================================\n",
            "Total params: 213,301\n",
            "Trainable params: 213,301\n",
            "Non-trainable params: 0\n",
            "_________________________________________________________________\n",
            "None\n",
            "Epoch 1/3\n",
            "391/391 [==============================] - 195s 498ms/step - loss: 0.5096 - accuracy: 0.7468\n",
            "Epoch 2/3\n",
            "391/391 [==============================] - 197s 503ms/step - loss: 0.3000 - accuracy: 0.8786\n",
            "Epoch 3/3\n",
            "391/391 [==============================] - 196s 502ms/step - loss: 0.2526 - accuracy: 0.9014\n",
            "Accuracy: 86.37%\n"
          ],
          "name": "stdout"
        }
      ]
    },
    {
      "cell_type": "code",
      "metadata": {
        "id": "dTEYkv-CWnqI"
      },
      "source": [
        ""
      ],
      "execution_count": null,
      "outputs": []
    },
    {
      "cell_type": "code",
      "metadata": {
        "id": "04lo8GkzUoDg"
      },
      "source": [
        ""
      ],
      "execution_count": null,
      "outputs": []
    }
  ]
}