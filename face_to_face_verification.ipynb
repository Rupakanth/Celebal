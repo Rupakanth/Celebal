{
 "cells": [
  {
   "cell_type": "code",
   "execution_count": 1,
   "metadata": {},
   "outputs": [],
   "source": [
    "import asyncio\n",
    "import io\n",
    "import glob\n",
    "import os\n",
    "import sys\n",
    "import time\n",
    "import uuid\n",
    "import requests\n",
    "from urllib.parse import urlparse\n",
    "from io import BytesIO\n",
    "# To install this module, run:\n",
    "# python -m pip install Pillow\n",
    "from PIL import Image, ImageDraw\n",
    "from azure.cognitiveservices.vision.face import FaceClient\n",
    "from msrest.authentication import CognitiveServicesCredentials\n",
    "from azure.cognitiveservices.vision.face.models import TrainingStatusType, Person"
   ]
  },
  {
   "cell_type": "code",
   "execution_count": 3,
   "metadata": {},
   "outputs": [],
   "source": [
    "#  creating a CognitiveServices credentials object with key and endpoint to create FaceClient Object\n",
    "# Creating an authenticated FaceClient\n",
    "\n",
    "face_client = FaceClient(ENDPOINT, CognitiveServicesCredentials(KEY))"
   ]
  },
  {
   "cell_type": "code",
   "execution_count": 4,
   "metadata": {},
   "outputs": [],
   "source": [
    "# detecting images when an user uploads or clicks a photo\n",
    "\n",
    "single_face_image_url = 'https://rkfaceapidemo0.blob.core.windows.net/rkfaceapidemo0/Sachin_Tendulkar_0.jpg'\n",
    "single_image_name = os.path.basename(single_face_image_url)\n",
    "\n",
    "detected_faces = face_client.face.detect_with_url(url=single_face_image_url, detectionModel='detection_02')\n",
    "\n",
    "if not detected_faces:\n",
    "    raise Exception('No face detected')\n",
    "    \n",
    "#saving this id to match with other faces\n",
    "first_image_face_ID = detected_faces[0].face_id"
   ]
  },
  {
   "cell_type": "code",
   "execution_count": 5,
   "metadata": {},
   "outputs": [
    {
     "name": "stdout",
     "output_type": "stream",
     "text": [
      "opening registrarion link\n"
     ]
    }
   ],
   "source": [
    "# Detecting for authorization\n",
    "\n",
    "authorization_image_url = 'https://rkfaceapidemo0.blob.core.windows.net/rkfaceapidemo0/Sachin_Tendulkar_1.jpg'\n",
    "detected_faces1 = face_client.face.detect_with_url(url = authorization_image_url, detectionModel='detection_02')\n",
    "source_image_id = detected_faces1[0].face_id\n",
    "\n",
    "# Comparing images from registration and authorization\n",
    "verify_results_same = face_client.face.verify_face_to_face(source_image_id, first_image_face_ID)\n",
    "\n",
    "\n",
    "if verify_results_same.confidence >= 0.70:\n",
    "    print('Face registration approved, Notifying host that candidate has arrived')\n",
    "else:\n",
    "    print('opening registrarion link')"
   ]
  },
  {
   "cell_type": "code",
   "execution_count": 6,
   "metadata": {},
   "outputs": [
    {
     "name": "stdout",
     "output_type": "stream",
     "text": [
      "Face registration approved, Notifying host that candidate has arrived\n"
     ]
    }
   ],
   "source": [
    "# Detecting for authorization\n",
    "\n",
    "authorization_image_url = 'https://rkfaceapidemo0.blob.core.windows.net/rkfaceapidemo0/Sachin_Tendulkar_2.jpg'\n",
    "detected_faces1 = face_client.face.detect_with_url(url = authorization_image_url, detectionModel='detection_02')\n",
    "source_image_id = detected_faces1[0].face_id\n",
    "\n",
    "# Comparing images from registration and authorization\n",
    "verify_results_same = face_client.face.verify_face_to_face(source_image_id, first_image_face_ID)\n",
    "\n",
    "\n",
    "if verify_results_same.confidence >= 0.70:\n",
    "    print('Face registration approved, Notifying host that candidate has arrived')\n",
    "else:\n",
    "    print('opening registrarion link')"
   ]
  }
 ],
 "metadata": {
  "kernelspec": {
   "display_name": "Python 3",
   "language": "python",
   "name": "python3"
  },
  "language_info": {
   "codemirror_mode": {
    "name": "ipython",
    "version": 3
   },
   "file_extension": ".py",
   "mimetype": "text/x-python",
   "name": "python",
   "nbconvert_exporter": "python",
   "pygments_lexer": "ipython3",
   "version": "3.7.4"
  }
 },
 "nbformat": 4,
 "nbformat_minor": 2
}
